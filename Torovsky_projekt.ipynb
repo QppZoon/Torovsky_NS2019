{
  "cells": [
    {
      "metadata": {
        "trusted": true
      },
      "cell_type": "code",
      "source": "from keras.models import Sequential\nfrom keras.layers import Dense\n\nfrom keras.utils import np_utils\nfrom keras.utils import to_categorical\n\nimport pandas as pd",
      "execution_count": 1,
      "outputs": [
        {
          "output_type": "stream",
          "text": "Using TensorFlow backend.\n",
          "name": "stderr"
        }
      ]
    },
    {
      "metadata": {
        "trusted": true
      },
      "cell_type": "code",
      "source": "# Importovanie datesetov\ntraining_dataset = pd.read_csv('poker-hand-training.data',header=None)\ntesting_dataset = pd.read_csv('poker-hand-testing.data',header=None)\n\ntrain_x = training_dataset.iloc[:,0:10].values\ntrain_y = training_dataset.iloc[:, 10].values\ntest_x = testing_dataset.iloc[:,0:10].values\ntest_y = testing_dataset.iloc[:, 10].values",
      "execution_count": 2,
      "outputs": []
    },
    {
      "metadata": {
        "trusted": true
      },
      "cell_type": "code",
      "source": "kategoricka_premenna_train = np_utils.to_categorical(train_y)\nkategoricka_premenna_test = np_utils.to_categorical(test_y)",
      "execution_count": 3,
      "outputs": []
    },
    {
      "metadata": {
        "trusted": true
      },
      "cell_type": "code",
      "source": "",
      "execution_count": null,
      "outputs": []
    }
  ],
  "metadata": {
    "kernelspec": {
      "name": "python36",
      "display_name": "Python 3.6",
      "language": "python"
    },
    "language_info": {
      "mimetype": "text/x-python",
      "nbconvert_exporter": "python",
      "name": "python",
      "pygments_lexer": "ipython3",
      "version": "3.6.6",
      "file_extension": ".py",
      "codemirror_mode": {
        "version": 3,
        "name": "ipython"
      }
    }
  },
  "nbformat": 4,
  "nbformat_minor": 2
}