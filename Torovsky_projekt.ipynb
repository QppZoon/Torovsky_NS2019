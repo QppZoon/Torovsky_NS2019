{
  "cells": [
    {
      "metadata": {
        "trusted": true
      },
      "cell_type": "code",
      "source": "from keras.models import Sequential\nfrom keras.layers import Dense\n\nfrom keras.utils import np_utils\nfrom keras.utils import to_categorical\n\nimport pandas as pd",
      "execution_count": 1,
      "outputs": [
        {
          "output_type": "stream",
          "text": "Using TensorFlow backend.\n",
          "name": "stderr"
        }
      ]
    },
    {
      "metadata": {
        "trusted": true
      },
      "cell_type": "code",
      "source": "# Importovanie datesetov\ntraining_dataset = pd.read_csv('poker-hand-training.data',header=None)\ntesting_dataset = pd.read_csv('poker-hand-testing.data',header=None)\n\ntrain_x = training_dataset.iloc[:,0:10].values\ntrain_y = training_dataset.iloc[:, 10].values\ntest_x = testing_dataset.iloc[:,0:10].values\ntest_y = testing_dataset.iloc[:, 10].values",
      "execution_count": 2,
      "outputs": []
    },
    {
      "metadata": {
        "trusted": true
      },
      "cell_type": "code",
      "source": "kategoricka_premenna_train = np_utils.to_categorical(train_y)\nkategoricka_premenna_test = np_utils.to_categorical(test_y)",
      "execution_count": 3,
      "outputs": []
    },
    {
      "metadata": {
        "trusted": true
      },
      "cell_type": "code",
      "source": "model = Sequential()\nmodel.add(Dense(32, input_dim=10, activation='relu'))\nmodel.add(Dense(16, activation='relu'))\nmodel.add(Dense(10, activation='linear'))\nmodel.add(Dense(10, activation='sigmoid'))\n\n# Compiling model\nmodel.compile(loss='mean_squared_error',optimizer='Adam', metrics=['accuracy'])\n\nmodel.fit(train_x, kategoricka_premenna_train, epochs=30)\nscores = model.evaluate(train_x, kategoricka_premenna_train)\nprint(\"\\nAccuracy: %.2f%%\" % (scores[1]*100))",
      "execution_count": 4,
      "outputs": [
        {
          "output_type": "stream",
          "text": "Epoch 1/30\n25010/25010 [==============================] - 2s 66us/step - loss: 0.0668 - acc: 0.4729\nEpoch 2/30\n25010/25010 [==============================] - 2s 62us/step - loss: 0.0566 - acc: 0.5129: 0s - loss: 0.0566 - acc: 0\nEpoch 3/30\n25010/25010 [==============================] - 1s 57us/step - loss: 0.0562 - acc: 0.5210\nEpoch 4/30\n25010/25010 [==============================] - 1s 50us/step - loss: 0.0559 - acc: 0.5267\nEpoch 5/30\n25010/25010 [==============================] - 1s 55us/step - loss: 0.0558 - acc: 0.5311\nEpoch 6/30\n25010/25010 [==============================] - 1s 57us/step - loss: 0.0556 - acc: 0.5360\nEpoch 7/30\n25010/25010 [==============================] - 1s 52us/step - loss: 0.0554 - acc: 0.5398\nEpoch 8/30\n25010/25010 [==============================] - 1s 54us/step - loss: 0.0553 - acc: 0.5418\nEpoch 9/30\n25010/25010 [==============================] - 1s 59us/step - loss: 0.0552 - acc: 0.5457\nEpoch 10/30\n25010/25010 [==============================] - 1s 54us/step - loss: 0.0550 - acc: 0.5508\nEpoch 11/30\n25010/25010 [==============================] - 1s 55us/step - loss: 0.0549 - acc: 0.5517\nEpoch 12/30\n25010/25010 [==============================] - 1s 52us/step - loss: 0.0547 - acc: 0.5507\nEpoch 13/30\n25010/25010 [==============================] - 1s 50us/step - loss: 0.0546 - acc: 0.5578\nEpoch 14/30\n25010/25010 [==============================] - 1s 58us/step - loss: 0.0545 - acc: 0.5583\nEpoch 15/30\n25010/25010 [==============================] - 1s 51us/step - loss: 0.0545 - acc: 0.5575\nEpoch 16/30\n25010/25010 [==============================] - 2s 62us/step - loss: 0.0543 - acc: 0.5631\nEpoch 17/30\n25010/25010 [==============================] - 2s 70us/step - loss: 0.0542 - acc: 0.5660\nEpoch 18/30\n25010/25010 [==============================] - 1s 56us/step - loss: 0.0541 - acc: 0.5683\nEpoch 19/30\n25010/25010 [==============================] - 1s 55us/step - loss: 0.0539 - acc: 0.5676\nEpoch 20/30\n25010/25010 [==============================] - 1s 52us/step - loss: 0.0537 - acc: 0.5729\nEpoch 21/30\n25010/25010 [==============================] - 1s 54us/step - loss: 0.0535 - acc: 0.5728\nEpoch 22/30\n25010/25010 [==============================] - 1s 54us/step - loss: 0.0533 - acc: 0.5781\nEpoch 23/30\n25010/25010 [==============================] - 1s 54us/step - loss: 0.0531 - acc: 0.5752\nEpoch 24/30\n25010/25010 [==============================] - 1s 54us/step - loss: 0.0530 - acc: 0.5791\nEpoch 25/30\n25010/25010 [==============================] - 1s 50us/step - loss: 0.0528 - acc: 0.5850\nEpoch 26/30\n25010/25010 [==============================] - 1s 54us/step - loss: 0.0527 - acc: 0.5845\nEpoch 27/30\n25010/25010 [==============================] - 1s 55us/step - loss: 0.0523 - acc: 0.5896\nEpoch 28/30\n25010/25010 [==============================] - 1s 53us/step - loss: 0.0520 - acc: 0.5961\nEpoch 29/30\n25010/25010 [==============================] - 2s 64us/step - loss: 0.0515 - acc: 0.6048\nEpoch 30/30\n25010/25010 [==============================] - 1s 59us/step - loss: 0.0510 - acc: 0.6111\n25010/25010 [==============================] - 1s 34us/step\n\nAccuracy: 62.20%\n",
          "name": "stdout"
        }
      ]
    },
    {
      "metadata": {
        "trusted": true
      },
      "cell_type": "code",
      "source": "#final = model.predict(test_x)",
      "execution_count": null,
      "outputs": []
    }
  ],
  "metadata": {
    "kernelspec": {
      "name": "python36",
      "display_name": "Python 3.6",
      "language": "python"
    },
    "language_info": {
      "mimetype": "text/x-python",
      "nbconvert_exporter": "python",
      "name": "python",
      "pygments_lexer": "ipython3",
      "version": "3.6.6",
      "file_extension": ".py",
      "codemirror_mode": {
        "version": 3,
        "name": "ipython"
      }
    }
  },
  "nbformat": 4,
  "nbformat_minor": 2
}